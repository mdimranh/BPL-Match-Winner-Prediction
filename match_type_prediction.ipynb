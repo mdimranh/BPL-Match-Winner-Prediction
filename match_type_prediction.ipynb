{
  "nbformat": 4,
  "nbformat_minor": 0,
  "metadata": {
    "colab": {
      "name": "match_type_prediction.ipynb",
      "provenance": [],
      "collapsed_sections": [
        "3GccB2mHFzdA",
        "Lwza7YCFImXI"
      ],
      "include_colab_link": true
    },
    "kernelspec": {
      "display_name": "Python 3",
      "name": "python3"
    },
    "language_info": {
      "name": "python"
    },
    "accelerator": "GPU"
  },
  "cells": [
    {
      "cell_type": "markdown",
      "metadata": {
        "id": "view-in-github",
        "colab_type": "text"
      },
      "source": [
        "<a href=\"https://colab.research.google.com/github/mdimranh/BPL-Match-Winner-Prediction/blob/main/match_type_prediction.ipynb\" target=\"_parent\"><img src=\"https://colab.research.google.com/assets/colab-badge.svg\" alt=\"Open In Colab\"/></a>"
      ]
    },
    {
      "cell_type": "markdown",
      "metadata": {
        "id": "geVTo3ZaFr7J"
      },
      "source": [
        "#**Mount Drive**"
      ]
    },
    {
      "cell_type": "code",
      "metadata": {
        "colab": {
          "base_uri": "https://localhost:8080/"
        },
        "id": "WE0OPN3XEvZ9",
        "outputId": "4612b10f-ce1d-44f1-937a-4fea8b6b8f1f"
      },
      "source": [
        "from google.colab import drive\n",
        "drive.mount('/content/gdrive')"
      ],
      "execution_count": 72,
      "outputs": [
        {
          "output_type": "stream",
          "text": [
            "Drive already mounted at /content/gdrive; to attempt to forcibly remount, call drive.mount(\"/content/gdrive\", force_remount=True).\n"
          ],
          "name": "stdout"
        }
      ]
    },
    {
      "cell_type": "code",
      "metadata": {
        "id": "kQGzvDtvF4vC"
      },
      "source": [
        "import pandas as pd\n",
        "import numpy as np"
      ],
      "execution_count": 73,
      "outputs": []
    },
    {
      "cell_type": "code",
      "metadata": {
        "id": "eTL7lzpkF7wm"
      },
      "source": [
        "bpl = pd.read_csv('gdrive/My Drive/bpl_dataset/bpl.csv')"
      ],
      "execution_count": 74,
      "outputs": []
    },
    {
      "cell_type": "markdown",
      "metadata": {
        "id": "-Gfz6Vgi0e6W"
      },
      "source": [
        "**Show Dataset**"
      ]
    },
    {
      "cell_type": "code",
      "metadata": {
        "colab": {
          "base_uri": "https://localhost:8080/",
          "height": 204
        },
        "id": "USUpZ8uLGLcF",
        "outputId": "ed4da664-f4fa-41e3-9adc-b66d2a8e0ffb"
      },
      "source": [
        "bpl.head()"
      ],
      "execution_count": 75,
      "outputs": [
        {
          "output_type": "execute_result",
          "data": {
            "text/html": [
              "<div>\n",
              "<style scoped>\n",
              "    .dataframe tbody tr th:only-of-type {\n",
              "        vertical-align: middle;\n",
              "    }\n",
              "\n",
              "    .dataframe tbody tr th {\n",
              "        vertical-align: top;\n",
              "    }\n",
              "\n",
              "    .dataframe thead th {\n",
              "        text-align: right;\n",
              "    }\n",
              "</style>\n",
              "<table border=\"1\" class=\"dataframe\">\n",
              "  <thead>\n",
              "    <tr style=\"text-align: right;\">\n",
              "      <th></th>\n",
              "      <th>Team</th>\n",
              "      <th>Toss_win</th>\n",
              "      <th>Toss_result</th>\n",
              "      <th>Toss_decission</th>\n",
              "      <th>Player_of_match</th>\n",
              "      <th>Player_of_match_team</th>\n",
              "      <th>Ground</th>\n",
              "      <th>Player_of_match_type</th>\n",
              "      <th>Score</th>\n",
              "      <th>Winner</th>\n",
              "      <th>Result</th>\n",
              "      <th>Weather</th>\n",
              "    </tr>\n",
              "  </thead>\n",
              "  <tbody>\n",
              "    <tr>\n",
              "      <th>0</th>\n",
              "      <td>Barisal</td>\n",
              "      <td>Barisal</td>\n",
              "      <td>Win</td>\n",
              "      <td>bowl</td>\n",
              "      <td>Chris Gayle</td>\n",
              "      <td>Barisal</td>\n",
              "      <td>Dhaka</td>\n",
              "      <td>batsman</td>\n",
              "      <td>167</td>\n",
              "      <td>Barisal</td>\n",
              "      <td>Win</td>\n",
              "      <td>Haze</td>\n",
              "    </tr>\n",
              "    <tr>\n",
              "      <th>1</th>\n",
              "      <td>Sylhet</td>\n",
              "      <td>Barisal</td>\n",
              "      <td>Loss</td>\n",
              "      <td>bat</td>\n",
              "      <td>Chris Gayle</td>\n",
              "      <td>Barisal</td>\n",
              "      <td>Dhaka</td>\n",
              "      <td>batsman</td>\n",
              "      <td>165</td>\n",
              "      <td>Barisal</td>\n",
              "      <td>Loss</td>\n",
              "      <td>Haze</td>\n",
              "    </tr>\n",
              "    <tr>\n",
              "      <th>2</th>\n",
              "      <td>Chittagong</td>\n",
              "      <td>Chittagong</td>\n",
              "      <td>Win</td>\n",
              "      <td>bat</td>\n",
              "      <td>Dwayne Bravo</td>\n",
              "      <td>Chittagong</td>\n",
              "      <td>Dhaka</td>\n",
              "      <td>all</td>\n",
              "      <td>206</td>\n",
              "      <td>Chittagong</td>\n",
              "      <td>Win</td>\n",
              "      <td>Passing clouds</td>\n",
              "    </tr>\n",
              "    <tr>\n",
              "      <th>3</th>\n",
              "      <td>Rajshahi</td>\n",
              "      <td>Chittagong</td>\n",
              "      <td>Loss</td>\n",
              "      <td>bowl</td>\n",
              "      <td>Dwayne Bravo</td>\n",
              "      <td>Chittagong</td>\n",
              "      <td>Dhaka</td>\n",
              "      <td>all</td>\n",
              "      <td>153</td>\n",
              "      <td>Chittagong</td>\n",
              "      <td>Loss</td>\n",
              "      <td>Passing clouds</td>\n",
              "    </tr>\n",
              "    <tr>\n",
              "      <th>4</th>\n",
              "      <td>Dhaka</td>\n",
              "      <td>Khulna</td>\n",
              "      <td>Loss</td>\n",
              "      <td>bat</td>\n",
              "      <td>Andre Russell</td>\n",
              "      <td>Khulna</td>\n",
              "      <td>Dhaka</td>\n",
              "      <td>all</td>\n",
              "      <td>156</td>\n",
              "      <td>Khulna</td>\n",
              "      <td>Loss</td>\n",
              "      <td>Haze</td>\n",
              "    </tr>\n",
              "  </tbody>\n",
              "</table>\n",
              "</div>"
            ],
            "text/plain": [
              "         Team    Toss_win Toss_result  ...      Winner Result         Weather\n",
              "0     Barisal     Barisal         Win  ...     Barisal    Win            Haze\n",
              "1      Sylhet     Barisal        Loss  ...     Barisal   Loss            Haze\n",
              "2  Chittagong  Chittagong         Win  ...  Chittagong    Win  Passing clouds\n",
              "3    Rajshahi  Chittagong        Loss  ...  Chittagong   Loss  Passing clouds\n",
              "4       Dhaka      Khulna        Loss  ...      Khulna   Loss            Haze\n",
              "\n",
              "[5 rows x 12 columns]"
            ]
          },
          "metadata": {
            "tags": []
          },
          "execution_count": 75
        }
      ]
    },
    {
      "cell_type": "markdown",
      "metadata": {
        "id": "1Wxro74N0iev"
      },
      "source": [
        "**Show shape**"
      ]
    },
    {
      "cell_type": "code",
      "metadata": {
        "colab": {
          "base_uri": "https://localhost:8080/"
        },
        "id": "3KX_t5OwGXli",
        "outputId": "765c8e6e-db8a-4cc0-a4b1-a9c4335ec66f"
      },
      "source": [
        "bpl.shape"
      ],
      "execution_count": 76,
      "outputs": [
        {
          "output_type": "execute_result",
          "data": {
            "text/plain": [
              "(590, 12)"
            ]
          },
          "metadata": {
            "tags": []
          },
          "execution_count": 76
        }
      ]
    },
    {
      "cell_type": "markdown",
      "metadata": {
        "id": "LFXZ-2SU0q4S"
      },
      "source": [
        "**Show All Information**"
      ]
    },
    {
      "cell_type": "code",
      "metadata": {
        "colab": {
          "base_uri": "https://localhost:8080/"
        },
        "id": "j5hoXc-XGer0",
        "outputId": "707a1ccc-ba6f-42d1-eefb-2192bc00ab79"
      },
      "source": [
        "bpl.info()"
      ],
      "execution_count": 77,
      "outputs": [
        {
          "output_type": "stream",
          "text": [
            "<class 'pandas.core.frame.DataFrame'>\n",
            "RangeIndex: 590 entries, 0 to 589\n",
            "Data columns (total 12 columns):\n",
            " #   Column                Non-Null Count  Dtype \n",
            "---  ------                --------------  ----- \n",
            " 0   Team                  590 non-null    object\n",
            " 1   Toss_win              590 non-null    object\n",
            " 2   Toss_result           590 non-null    object\n",
            " 3   Toss_decission        590 non-null    object\n",
            " 4   Player_of_match       590 non-null    object\n",
            " 5   Player_of_match_team  590 non-null    object\n",
            " 6   Ground                590 non-null    object\n",
            " 7   Player_of_match_type  590 non-null    object\n",
            " 8   Score                 590 non-null    int64 \n",
            " 9   Winner                590 non-null    object\n",
            " 10  Result                590 non-null    object\n",
            " 11  Weather               590 non-null    object\n",
            "dtypes: int64(1), object(11)\n",
            "memory usage: 55.4+ KB\n"
          ],
          "name": "stdout"
        }
      ]
    },
    {
      "cell_type": "markdown",
      "metadata": {
        "id": "vFKHmBwx0xqu"
      },
      "source": [
        "**Show Null Value**"
      ]
    },
    {
      "cell_type": "code",
      "metadata": {
        "colab": {
          "base_uri": "https://localhost:8080/"
        },
        "id": "A4vFNCRnH08P",
        "outputId": "23f91953-dfb0-4791-e225-500ba1c1852d"
      },
      "source": [
        "bpl.isnull().any()"
      ],
      "execution_count": 78,
      "outputs": [
        {
          "output_type": "execute_result",
          "data": {
            "text/plain": [
              "Team                    False\n",
              "Toss_win                False\n",
              "Toss_result             False\n",
              "Toss_decission          False\n",
              "Player_of_match         False\n",
              "Player_of_match_team    False\n",
              "Ground                  False\n",
              "Player_of_match_type    False\n",
              "Score                   False\n",
              "Winner                  False\n",
              "Result                  False\n",
              "Weather                 False\n",
              "dtype: bool"
            ]
          },
          "metadata": {
            "tags": []
          },
          "execution_count": 78
        }
      ]
    },
    {
      "cell_type": "markdown",
      "metadata": {
        "id": "ZHRPCdVtJJiH"
      },
      "source": [
        "#**Import library for data visualization**"
      ]
    },
    {
      "cell_type": "code",
      "metadata": {
        "id": "7Cm1naBBJQbO"
      },
      "source": [
        "import matplotlib.pyplot as plt\n",
        "%matplotlib inline\n",
        "import seaborn as sns\n",
        "sns.set()"
      ],
      "execution_count": 79,
      "outputs": []
    },
    {
      "cell_type": "markdown",
      "metadata": {
        "id": "XP_Xe-OC05P4"
      },
      "source": [
        "**Define a function to see the graph**"
      ]
    },
    {
      "cell_type": "code",
      "metadata": {
        "id": "PeQkPagSeXIW"
      },
      "source": [
        "def bar_chart(feature):\n",
        "    low = bpl[bpl['Score'] <= 120][feature].value_counts()\n",
        "    mid = bpl[(bpl['Score']>=121) & (bpl['Score'] <= 150)][feature].value_counts()\n",
        "    high = bpl[bpl['Score']>150][feature].value_counts()\n",
        "    df = pd.DataFrame([low,mid,high])\n",
        "    df.index = ['Low','Mid','High']\n",
        "    df.plot(kind='bar',stacked=True, figsize=(10,5))"
      ],
      "execution_count": 80,
      "outputs": []
    },
    {
      "cell_type": "code",
      "metadata": {
        "colab": {
          "base_uri": "https://localhost:8080/",
          "height": 338
        },
        "id": "G5QH7NlLBA1b",
        "outputId": "89cfa7ee-ea8e-481c-e868-fcd1874801be"
      },
      "source": [
        "bar_chart('Toss_win')"
      ],
      "execution_count": 81,
      "outputs": [
        {
          "output_type": "display_data",
          "data": {
            "image/png": "[encoded data removed]",
            "text/plain": [
              "<Figure size 720x360 with 1 Axes>"
            ]
          },
          "metadata": {
            "tags": []
          }
        }
      ]
    },
    {
      "cell_type": "code",
      "metadata": {
        "colab": {
          "base_uri": "https://localhost:8080/",
          "height": 338
        },
        "id": "NB8mg-q_fUuw",
        "outputId": "1925aa8c-f046-4a69-f9ac-50367234b179"
      },
      "source": [
        "bar_chart('Toss_decission')"
      ],
      "execution_count": 82,
      "outputs": [
        {
          "output_type": "display_data",
          "data": {
            "image/png": "[encoded data removed]",
            "text/plain": [
              "<Figure size 720x360 with 1 Axes>"
            ]
          },
          "metadata": {
            "tags": []
          }
        }
      ]
    },
    {
      "cell_type": "code",
      "metadata": {
        "colab": {
          "base_uri": "https://localhost:8080/",
          "height": 338
        },
        "id": "vQLZKUYO11sx",
        "outputId": "e94006bb-4991-4e4c-d332-0077a00baf3d"
      },
      "source": [
        "bar_chart('Toss_result')"
      ],
      "execution_count": 83,
      "outputs": [
        {
          "output_type": "display_data",
          "data": {
            "image/png": "[encoded data removed]",
            "text/plain": [
              "<Figure size 720x360 with 1 Axes>"
            ]
          },
          "metadata": {
            "tags": []
          }
        }
      ]
    },
    {
      "cell_type": "code",
      "metadata": {
        "colab": {
          "base_uri": "https://localhost:8080/",
          "height": 338
        },
        "id": "CCjt5r7B2Ald",
        "outputId": "1cbfff3b-6df9-4e3a-a25e-0343dfcf53ef"
      },
      "source": [
        "bar_chart('Weather')"
      ],
      "execution_count": 84,
      "outputs": [
        {
          "output_type": "display_data",
          "data": {
            "image/png": "[encoded data removed]",
            "text/plain": [
              "<Figure size 720x360 with 1 Axes>"
            ]
          },
          "metadata": {
            "tags": []
          }
        }
      ]
    },
    {
      "cell_type": "code",
      "metadata": {
        "colab": {
          "base_uri": "https://localhost:8080/",
          "height": 338
        },
        "id": "mvlApFYE2MhJ",
        "outputId": "84a80615-3709-4cf0-ff52-3f3976dc66a3"
      },
      "source": [
        "bar_chart('Ground')"
      ],
      "execution_count": 85,
      "outputs": [
        {
          "output_type": "display_data",
          "data": {
            "image/png": "[encoded data removed]",
            "text/plain": [
              "<Figure size 720x360 with 1 Axes>"
            ]
          },
          "metadata": {
            "tags": []
          }
        }
      ]
    },
    {
      "cell_type": "code",
      "metadata": {
        "colab": {
          "base_uri": "https://localhost:8080/",
          "height": 338
        },
        "id": "ONS3QQ6I2cDg",
        "outputId": "c0a418e7-1a83-450f-ec37-0bf411d039aa"
      },
      "source": [
        "bar_chart('Player_of_match_team')"
      ],
      "execution_count": 86,
      "outputs": [
        {
          "output_type": "display_data",
          "data": {
            "image/png": "[encoded data removed]",
            "text/plain": [
              "<Figure size 720x360 with 1 Axes>"
            ]
          },
          "metadata": {
            "tags": []
          }
        }
      ]
    },
    {
      "cell_type": "markdown",
      "metadata": {
        "id": "PBN8b5tR4Cx7"
      },
      "source": [
        "#**Data Mapping from string to number**"
      ]
    },
    {
      "cell_type": "code",
      "metadata": {
        "colab": {
          "base_uri": "https://localhost:8080/"
        },
        "id": "FMszjR_YPiSj",
        "outputId": "15c3ccc6-4e0b-45e3-e6c6-899222cdf5a0"
      },
      "source": [
        "bpl['Player_of_match_team'].value_counts()"
      ],
      "execution_count": 87,
      "outputs": [
        {
          "output_type": "execute_result",
          "data": {
            "text/plain": [
              "Dhaka         110\n",
              "Rajshahi       80\n",
              "Rangpur        80\n",
              "Chittagong     78\n",
              "Comilla        74\n",
              "Khulna         68\n",
              "Sylhet         48\n",
              "Barisal        48\n",
              "tied            4\n",
              "Name: Player_of_match_team, dtype: int64"
            ]
          },
          "metadata": {
            "tags": []
          },
          "execution_count": 87
        }
      ]
    },
    {
      "cell_type": "code",
      "metadata": {
        "colab": {
          "base_uri": "https://localhost:8080/"
        },
        "id": "54_jYiolyH4x",
        "outputId": "8177acd5-a21e-4ae3-f724-6a8d9500d02d"
      },
      "source": [
        "bpl['Player_of_match_team'].value_counts()"
      ],
      "execution_count": 88,
      "outputs": [
        {
          "output_type": "execute_result",
          "data": {
            "text/plain": [
              "Dhaka         110\n",
              "Rajshahi       80\n",
              "Rangpur        80\n",
              "Chittagong     78\n",
              "Comilla        74\n",
              "Khulna         68\n",
              "Sylhet         48\n",
              "Barisal        48\n",
              "tied            4\n",
              "Name: Player_of_match_team, dtype: int64"
            ]
          },
          "metadata": {
            "tags": []
          },
          "execution_count": 88
        }
      ]
    },
    {
      "cell_type": "code",
      "metadata": {
        "id": "pGXp9cKGQxND"
      },
      "source": [
        "bpl_test_data = [bpl]"
      ],
      "execution_count": 89,
      "outputs": []
    },
    {
      "cell_type": "code",
      "metadata": {
        "id": "Z2zN-FDRNM4F"
      },
      "source": [
        "result_mapping = {\"Win\": 1, \"Loss\": 0 }\n",
        "toss_decission_mapping = {\"bowl\": 0, \"bat\": 1}\n",
        "ground_mapping = {\"Dhaka\": 0, \"Chittagong\": 1, \"Sylhet\": 2, \"Khulna\": 3}\n",
        "pom_type_mapping = {\"batsman\": 0, \"bowler\": 1, \"all\": 2}\n",
        "weather_mapping = {\"Fog\": 0, \"Haze\": 1, \"Scattered clouds\": 2, \"Passing clouds\": 2, \"Clear\": 2, \"Clear\": 2, \"Sunny\": 2, \"Partly sunny\": 2, \"Partly clouds\": 2, \"Broken clouds\": 2, \"Light Rain\": 2, \"Overcast\": 2, \"Mostly clouds\": 2, \"Partly Sunny\": 2}\n",
        "Team_mapping  = {\"Dhaka\": 0, \"Chittagong\": 1, \"Rajshahi\": 2, \"Rangpur\": 3, \"Khulna\": 4, \"Sylhet\": 5, \"Comilla\": 6, \"Barisal\": 7, \"tied\": 8}"
      ],
      "execution_count": 90,
      "outputs": []
    },
    {
      "cell_type": "code",
      "metadata": {
        "id": "UHbrFSKUNxms"
      },
      "source": [
        "for dataset in bpl_test_data:\n",
        "  dataset['Result'] = dataset['Result'].map(result_mapping)\n",
        "  dataset['Toss_result'] = dataset['Toss_result'].map(result_mapping)\n",
        "  dataset['Toss_decission'] = dataset['Toss_decission'].map(toss_decission_mapping)\n",
        "  dataset['Ground'] = dataset['Ground'].map(ground_mapping)\n",
        "  dataset['Player_of_match_type'] = dataset['Player_of_match_type'].map(pom_type_mapping)\n",
        "  dataset['Weather'] = dataset['Weather'].map(weather_mapping)\n",
        "  dataset['Team'] = dataset['Team'].map(Team_mapping)\n",
        "  dataset['Toss_win'] = dataset['Toss_win'].map(Team_mapping)\n",
        "  dataset['Player_of_match_team'] = dataset['Player_of_match_team'].map(Team_mapping)\n",
        "  dataset['Winner'] = dataset['Winner'].map(Team_mapping)"
      ],
      "execution_count": 91,
      "outputs": []
    },
    {
      "cell_type": "code",
      "metadata": {
        "colab": {
          "base_uri": "https://localhost:8080/",
          "height": 204
        },
        "id": "rFXawmIAQ9jD",
        "outputId": "6fd64dfd-a6d9-4049-f73c-3cadaf219e2b"
      },
      "source": [
        "bpl.head()"
      ],
      "execution_count": 92,
      "outputs": [
        {
          "output_type": "execute_result",
          "data": {
            "text/html": [
              "<div>\n",
              "<style scoped>\n",
              "    .dataframe tbody tr th:only-of-type {\n",
              "        vertical-align: middle;\n",
              "    }\n",
              "\n",
              "    .dataframe tbody tr th {\n",
              "        vertical-align: top;\n",
              "    }\n",
              "\n",
              "    .dataframe thead th {\n",
              "        text-align: right;\n",
              "    }\n",
              "</style>\n",
              "<table border=\"1\" class=\"dataframe\">\n",
              "  <thead>\n",
              "    <tr style=\"text-align: right;\">\n",
              "      <th></th>\n",
              "      <th>Team</th>\n",
              "      <th>Toss_win</th>\n",
              "      <th>Toss_result</th>\n",
              "      <th>Toss_decission</th>\n",
              "      <th>Player_of_match</th>\n",
              "      <th>Player_of_match_team</th>\n",
              "      <th>Ground</th>\n",
              "      <th>Player_of_match_type</th>\n",
              "      <th>Score</th>\n",
              "      <th>Winner</th>\n",
              "      <th>Result</th>\n",
              "      <th>Weather</th>\n",
              "    </tr>\n",
              "  </thead>\n",
              "  <tbody>\n",
              "    <tr>\n",
              "      <th>0</th>\n",
              "      <td>7</td>\n",
              "      <td>7</td>\n",
              "      <td>1</td>\n",
              "      <td>0</td>\n",
              "      <td>Chris Gayle</td>\n",
              "      <td>7</td>\n",
              "      <td>0</td>\n",
              "      <td>0</td>\n",
              "      <td>167</td>\n",
              "      <td>7</td>\n",
              "      <td>1</td>\n",
              "      <td>1</td>\n",
              "    </tr>\n",
              "    <tr>\n",
              "      <th>1</th>\n",
              "      <td>5</td>\n",
              "      <td>7</td>\n",
              "      <td>0</td>\n",
              "      <td>1</td>\n",
              "      <td>Chris Gayle</td>\n",
              "      <td>7</td>\n",
              "      <td>0</td>\n",
              "      <td>0</td>\n",
              "      <td>165</td>\n",
              "      <td>7</td>\n",
              "      <td>0</td>\n",
              "      <td>1</td>\n",
              "    </tr>\n",
              "    <tr>\n",
              "      <th>2</th>\n",
              "      <td>1</td>\n",
              "      <td>1</td>\n",
              "      <td>1</td>\n",
              "      <td>1</td>\n",
              "      <td>Dwayne Bravo</td>\n",
              "      <td>1</td>\n",
              "      <td>0</td>\n",
              "      <td>2</td>\n",
              "      <td>206</td>\n",
              "      <td>1</td>\n",
              "      <td>1</td>\n",
              "      <td>2</td>\n",
              "    </tr>\n",
              "    <tr>\n",
              "      <th>3</th>\n",
              "      <td>2</td>\n",
              "      <td>1</td>\n",
              "      <td>0</td>\n",
              "      <td>0</td>\n",
              "      <td>Dwayne Bravo</td>\n",
              "      <td>1</td>\n",
              "      <td>0</td>\n",
              "      <td>2</td>\n",
              "      <td>153</td>\n",
              "      <td>1</td>\n",
              "      <td>0</td>\n",
              "      <td>2</td>\n",
              "    </tr>\n",
              "    <tr>\n",
              "      <th>4</th>\n",
              "      <td>0</td>\n",
              "      <td>4</td>\n",
              "      <td>0</td>\n",
              "      <td>1</td>\n",
              "      <td>Andre Russell</td>\n",
              "      <td>4</td>\n",
              "      <td>0</td>\n",
              "      <td>2</td>\n",
              "      <td>156</td>\n",
              "      <td>4</td>\n",
              "      <td>0</td>\n",
              "      <td>1</td>\n",
              "    </tr>\n",
              "  </tbody>\n",
              "</table>\n",
              "</div>"
            ],
            "text/plain": [
              "   Team  Toss_win  Toss_result  Toss_decission  ... Score  Winner  Result  Weather\n",
              "0     7         7            1               0  ...   167       7       1        1\n",
              "1     5         7            0               1  ...   165       7       0        1\n",
              "2     1         1            1               1  ...   206       1       1        2\n",
              "3     2         1            0               0  ...   153       1       0        2\n",
              "4     0         4            0               1  ...   156       4       0        1\n",
              "\n",
              "[5 rows x 12 columns]"
            ]
          },
          "metadata": {
            "tags": []
          },
          "execution_count": 92
        }
      ]
    },
    {
      "cell_type": "markdown",
      "metadata": {
        "id": "xybw2uWV1ZH2"
      },
      "source": [
        "**Score data mapping using function**"
      ]
    },
    {
      "cell_type": "code",
      "metadata": {
        "id": "aWE1UXbsZtHX"
      },
      "source": [
        "def score(Score):\n",
        "  if Score < 121 :\n",
        "    return 0\n",
        "  elif Score > 120 and Score <161:\n",
        "    return 1\n",
        "  else:\n",
        "    return 2"
      ],
      "execution_count": 93,
      "outputs": []
    },
    {
      "cell_type": "code",
      "metadata": {
        "id": "UR3QUFP2pCGP"
      },
      "source": [
        "for dataset in bpl_test_data:\n",
        "  dataset['Score'] = bpl['Score'].map(score)"
      ],
      "execution_count": 94,
      "outputs": []
    },
    {
      "cell_type": "code",
      "metadata": {
        "colab": {
          "base_uri": "https://localhost:8080/",
          "height": 204
        },
        "id": "-EofNohxpWY5",
        "outputId": "458bf19f-aff9-42ab-c68f-8c958edc47fb"
      },
      "source": [
        "bpl.head()"
      ],
      "execution_count": 95,
      "outputs": [
        {
          "output_type": "execute_result",
          "data": {
            "text/html": [
              "<div>\n",
              "<style scoped>\n",
              "    .dataframe tbody tr th:only-of-type {\n",
              "        vertical-align: middle;\n",
              "    }\n",
              "\n",
              "    .dataframe tbody tr th {\n",
              "        vertical-align: top;\n",
              "    }\n",
              "\n",
              "    .dataframe thead th {\n",
              "        text-align: right;\n",
              "    }\n",
              "</style>\n",
              "<table border=\"1\" class=\"dataframe\">\n",
              "  <thead>\n",
              "    <tr style=\"text-align: right;\">\n",
              "      <th></th>\n",
              "      <th>Team</th>\n",
              "      <th>Toss_win</th>\n",
              "      <th>Toss_result</th>\n",
              "      <th>Toss_decission</th>\n",
              "      <th>Player_of_match</th>\n",
              "      <th>Player_of_match_team</th>\n",
              "      <th>Ground</th>\n",
              "      <th>Player_of_match_type</th>\n",
              "      <th>Score</th>\n",
              "      <th>Winner</th>\n",
              "      <th>Result</th>\n",
              "      <th>Weather</th>\n",
              "    </tr>\n",
              "  </thead>\n",
              "  <tbody>\n",
              "    <tr>\n",
              "      <th>0</th>\n",
              "      <td>7</td>\n",
              "      <td>7</td>\n",
              "      <td>1</td>\n",
              "      <td>0</td>\n",
              "      <td>Chris Gayle</td>\n",
              "      <td>7</td>\n",
              "      <td>0</td>\n",
              "      <td>0</td>\n",
              "      <td>2</td>\n",
              "      <td>7</td>\n",
              "      <td>1</td>\n",
              "      <td>1</td>\n",
              "    </tr>\n",
              "    <tr>\n",
              "      <th>1</th>\n",
              "      <td>5</td>\n",
              "      <td>7</td>\n",
              "      <td>0</td>\n",
              "      <td>1</td>\n",
              "      <td>Chris Gayle</td>\n",
              "      <td>7</td>\n",
              "      <td>0</td>\n",
              "      <td>0</td>\n",
              "      <td>2</td>\n",
              "      <td>7</td>\n",
              "      <td>0</td>\n",
              "      <td>1</td>\n",
              "    </tr>\n",
              "    <tr>\n",
              "      <th>2</th>\n",
              "      <td>1</td>\n",
              "      <td>1</td>\n",
              "      <td>1</td>\n",
              "      <td>1</td>\n",
              "      <td>Dwayne Bravo</td>\n",
              "      <td>1</td>\n",
              "      <td>0</td>\n",
              "      <td>2</td>\n",
              "      <td>2</td>\n",
              "      <td>1</td>\n",
              "      <td>1</td>\n",
              "      <td>2</td>\n",
              "    </tr>\n",
              "    <tr>\n",
              "      <th>3</th>\n",
              "      <td>2</td>\n",
              "      <td>1</td>\n",
              "      <td>0</td>\n",
              "      <td>0</td>\n",
              "      <td>Dwayne Bravo</td>\n",
              "      <td>1</td>\n",
              "      <td>0</td>\n",
              "      <td>2</td>\n",
              "      <td>1</td>\n",
              "      <td>1</td>\n",
              "      <td>0</td>\n",
              "      <td>2</td>\n",
              "    </tr>\n",
              "    <tr>\n",
              "      <th>4</th>\n",
              "      <td>0</td>\n",
              "      <td>4</td>\n",
              "      <td>0</td>\n",
              "      <td>1</td>\n",
              "      <td>Andre Russell</td>\n",
              "      <td>4</td>\n",
              "      <td>0</td>\n",
              "      <td>2</td>\n",
              "      <td>1</td>\n",
              "      <td>4</td>\n",
              "      <td>0</td>\n",
              "      <td>1</td>\n",
              "    </tr>\n",
              "  </tbody>\n",
              "</table>\n",
              "</div>"
            ],
            "text/plain": [
              "   Team  Toss_win  Toss_result  Toss_decission  ... Score  Winner  Result  Weather\n",
              "0     7         7            1               0  ...     2       7       1        1\n",
              "1     5         7            0               1  ...     2       7       0        1\n",
              "2     1         1            1               1  ...     2       1       1        2\n",
              "3     2         1            0               0  ...     1       1       0        2\n",
              "4     0         4            0               1  ...     1       4       0        1\n",
              "\n",
              "[5 rows x 12 columns]"
            ]
          },
          "metadata": {
            "tags": []
          },
          "execution_count": 95
        }
      ]
    },
    {
      "cell_type": "markdown",
      "metadata": {
        "id": "wZzj19S11kxi"
      },
      "source": [
        "**Player_of_match data mapping using function**"
      ]
    },
    {
      "cell_type": "code",
      "metadata": {
        "colab": {
          "base_uri": "https://localhost:8080/"
        },
        "id": "9KbEm-JNw17g",
        "outputId": "62cb066b-6710-4449-f8cd-669b88a96001"
      },
      "source": [
        "bpl['Player_of_match'].value_counts()"
      ],
      "execution_count": 96,
      "outputs": [
        {
          "output_type": "execute_result",
          "data": {
            "text/plain": [
              "Shakib Al Hasan          18\n",
              "Shahid Afridi            14\n",
              "Ravi Bopara              14\n",
              "Chris Gayle              14\n",
              "Evin Lewis               12\n",
              "                         ..\n",
              "Charles Coventry          2\n",
              "Nazmul Hossain Shanto     2\n",
              "Shuvagata Hom             2\n",
              "Hamilton Masakadza        2\n",
              "Hamid Hassan              2\n",
              "Name: Player_of_match, Length: 134, dtype: int64"
            ]
          },
          "metadata": {
            "tags": []
          },
          "execution_count": 96
        }
      ]
    },
    {
      "cell_type": "code",
      "metadata": {
        "id": "yJvM76S4wcSW"
      },
      "source": [
        "def pom(pom):\n",
        "  if pom == \"Shakib Al Hasan\":\n",
        "    return 0\n",
        "  elif pom == \"Ravi Bopara\":\n",
        "    return 1\n",
        "  elif pom == \"Chris Gayle\":\n",
        "    return 2\n",
        "  elif pom == \"Shahid Afridi\":\n",
        "    return 3\n",
        "  elif pom == \"Mahmudullah\":\n",
        "    return 4\n",
        "  else:\n",
        "    return 5"
      ],
      "execution_count": 97,
      "outputs": []
    },
    {
      "cell_type": "code",
      "metadata": {
        "id": "B4jd0P3exZD5"
      },
      "source": [
        "for dataset in bpl_test_data:\n",
        "  dataset['Player_of_match'] = bpl['Player_of_match'].map(pom)"
      ],
      "execution_count": 98,
      "outputs": []
    },
    {
      "cell_type": "code",
      "metadata": {
        "colab": {
          "base_uri": "https://localhost:8080/",
          "height": 204
        },
        "id": "2Gs0Co6Uxgea",
        "outputId": "8edf3d5e-ed25-4a6d-af43-9047168a11e7"
      },
      "source": [
        "bpl.head()"
      ],
      "execution_count": 99,
      "outputs": [
        {
          "output_type": "execute_result",
          "data": {
            "text/html": [
              "<div>\n",
              "<style scoped>\n",
              "    .dataframe tbody tr th:only-of-type {\n",
              "        vertical-align: middle;\n",
              "    }\n",
              "\n",
              "    .dataframe tbody tr th {\n",
              "        vertical-align: top;\n",
              "    }\n",
              "\n",
              "    .dataframe thead th {\n",
              "        text-align: right;\n",
              "    }\n",
              "</style>\n",
              "<table border=\"1\" class=\"dataframe\">\n",
              "  <thead>\n",
              "    <tr style=\"text-align: right;\">\n",
              "      <th></th>\n",
              "      <th>Team</th>\n",
              "      <th>Toss_win</th>\n",
              "      <th>Toss_result</th>\n",
              "      <th>Toss_decission</th>\n",
              "      <th>Player_of_match</th>\n",
              "      <th>Player_of_match_team</th>\n",
              "      <th>Ground</th>\n",
              "      <th>Player_of_match_type</th>\n",
              "      <th>Score</th>\n",
              "      <th>Winner</th>\n",
              "      <th>Result</th>\n",
              "      <th>Weather</th>\n",
              "    </tr>\n",
              "  </thead>\n",
              "  <tbody>\n",
              "    <tr>\n",
              "      <th>0</th>\n",
              "      <td>7</td>\n",
              "      <td>7</td>\n",
              "      <td>1</td>\n",
              "      <td>0</td>\n",
              "      <td>2</td>\n",
              "      <td>7</td>\n",
              "      <td>0</td>\n",
              "      <td>0</td>\n",
              "      <td>2</td>\n",
              "      <td>7</td>\n",
              "      <td>1</td>\n",
              "      <td>1</td>\n",
              "    </tr>\n",
              "    <tr>\n",
              "      <th>1</th>\n",
              "      <td>5</td>\n",
              "      <td>7</td>\n",
              "      <td>0</td>\n",
              "      <td>1</td>\n",
              "      <td>2</td>\n",
              "      <td>7</td>\n",
              "      <td>0</td>\n",
              "      <td>0</td>\n",
              "      <td>2</td>\n",
              "      <td>7</td>\n",
              "      <td>0</td>\n",
              "      <td>1</td>\n",
              "    </tr>\n",
              "    <tr>\n",
              "      <th>2</th>\n",
              "      <td>1</td>\n",
              "      <td>1</td>\n",
              "      <td>1</td>\n",
              "      <td>1</td>\n",
              "      <td>5</td>\n",
              "      <td>1</td>\n",
              "      <td>0</td>\n",
              "      <td>2</td>\n",
              "      <td>2</td>\n",
              "      <td>1</td>\n",
              "      <td>1</td>\n",
              "      <td>2</td>\n",
              "    </tr>\n",
              "    <tr>\n",
              "      <th>3</th>\n",
              "      <td>2</td>\n",
              "      <td>1</td>\n",
              "      <td>0</td>\n",
              "      <td>0</td>\n",
              "      <td>5</td>\n",
              "      <td>1</td>\n",
              "      <td>0</td>\n",
              "      <td>2</td>\n",
              "      <td>1</td>\n",
              "      <td>1</td>\n",
              "      <td>0</td>\n",
              "      <td>2</td>\n",
              "    </tr>\n",
              "    <tr>\n",
              "      <th>4</th>\n",
              "      <td>0</td>\n",
              "      <td>4</td>\n",
              "      <td>0</td>\n",
              "      <td>1</td>\n",
              "      <td>5</td>\n",
              "      <td>4</td>\n",
              "      <td>0</td>\n",
              "      <td>2</td>\n",
              "      <td>1</td>\n",
              "      <td>4</td>\n",
              "      <td>0</td>\n",
              "      <td>1</td>\n",
              "    </tr>\n",
              "  </tbody>\n",
              "</table>\n",
              "</div>"
            ],
            "text/plain": [
              "   Team  Toss_win  Toss_result  Toss_decission  ...  Score  Winner  Result  Weather\n",
              "0     7         7            1               0  ...      2       7       1        1\n",
              "1     5         7            0               1  ...      2       7       0        1\n",
              "2     1         1            1               1  ...      2       1       1        2\n",
              "3     2         1            0               0  ...      1       1       0        2\n",
              "4     0         4            0               1  ...      1       4       0        1\n",
              "\n",
              "[5 rows x 12 columns]"
            ]
          },
          "metadata": {
            "tags": []
          },
          "execution_count": 99
        }
      ]
    },
    {
      "cell_type": "code",
      "metadata": {
        "colab": {
          "base_uri": "https://localhost:8080/"
        },
        "id": "0Y1txt97MIpL",
        "outputId": "e25e85af-97d1-4100-8444-c8ce64b9b5b6"
      },
      "source": [
        "bpl['Player_of_match_team'].isnull().sum()"
      ],
      "execution_count": 100,
      "outputs": [
        {
          "output_type": "execute_result",
          "data": {
            "text/plain": [
              "0"
            ]
          },
          "metadata": {
            "tags": []
          },
          "execution_count": 100
        }
      ]
    },
    {
      "cell_type": "markdown",
      "metadata": {
        "id": "J1x-wBU-zWAY"
      },
      "source": [
        "#**Data Visualization**"
      ]
    },
    {
      "cell_type": "code",
      "metadata": {
        "id": "h7H13kzCzS2H"
      },
      "source": [
        "def bar_chart(feature):\n",
        "    low = bpl[bpl['Score'] == 0][feature].value_counts()\n",
        "    mid = bpl[bpl['Score'] == 1][feature].value_counts()\n",
        "    high = bpl[bpl['Score'] == 2][feature].value_counts()\n",
        "    df = pd.DataFrame([low,mid,high])\n",
        "    df.index = ['Low','Mid','High']\n",
        "    df.plot(kind='bar',stacked=True, figsize=(10,5))"
      ],
      "execution_count": 101,
      "outputs": []
    },
    {
      "cell_type": "code",
      "metadata": {
        "colab": {
          "base_uri": "https://localhost:8080/",
          "height": 338
        },
        "id": "Hqb9NL7QyxK5",
        "outputId": "5a69fc48-e2e5-41f8-8864-9158c6405859"
      },
      "source": [
        "bar_chart('Player_of_match_type')"
      ],
      "execution_count": 102,
      "outputs": [
        {
          "output_type": "display_data",
          "data": {
            "image/png": "[encoded data removed]",
            "text/plain": [
              "<Figure size 720x360 with 1 Axes>"
            ]
          },
          "metadata": {
            "tags": []
          }
        }
      ]
    },
    {
      "cell_type": "code",
      "metadata": {
        "colab": {
          "base_uri": "https://localhost:8080/",
          "height": 338
        },
        "id": "K4Lwofcd2uuI",
        "outputId": "c20b2dfe-5f7d-4a57-bdec-70a27ba87c2f"
      },
      "source": [
        "bar_chart('Toss_result')"
      ],
      "execution_count": 103,
      "outputs": [
        {
          "output_type": "display_data",
          "data": {
            "image/png": "[encoded data removed]",
            "text/plain": [
              "<Figure size 720x360 with 1 Axes>"
            ]
          },
          "metadata": {
            "tags": []
          }
        }
      ]
    },
    {
      "cell_type": "code",
      "metadata": {
        "colab": {
          "base_uri": "https://localhost:8080/",
          "height": 338
        },
        "id": "t6hL_4vuxiXk",
        "outputId": "463fef26-0cf2-4304-a8e3-f1ff585e7005"
      },
      "source": [
        "bar_chart('Toss_decission')"
      ],
      "execution_count": 104,
      "outputs": [
        {
          "output_type": "display_data",
          "data": {
            "image/png": "[encoded data removed]",
            "text/plain": [
              "<Figure size 720x360 with 1 Axes>"
            ]
          },
          "metadata": {
            "tags": []
          }
        }
      ]
    },
    {
      "cell_type": "code",
      "metadata": {
        "colab": {
          "base_uri": "https://localhost:8080/",
          "height": 338
        },
        "id": "akkmFgtN2yCY",
        "outputId": "767555ed-d78e-4189-e7d0-a4c38363b95f"
      },
      "source": [
        "bar_chart('Weather')"
      ],
      "execution_count": 105,
      "outputs": [
        {
          "output_type": "display_data",
          "data": {
            "image/png": "[encoded data removed]",
            "text/plain": [
              "<Figure size 720x360 with 1 Axes>"
            ]
          },
          "metadata": {
            "tags": []
          }
        }
      ]
    },
    {
      "cell_type": "code",
      "metadata": {
        "colab": {
          "base_uri": "https://localhost:8080/",
          "height": 338
        },
        "id": "lOKX-TPj2yUJ",
        "outputId": "1c4b3d16-def0-4ea8-a436-653f0857618c"
      },
      "source": [
        "bar_chart('Ground')"
      ],
      "execution_count": 106,
      "outputs": [
        {
          "output_type": "display_data",
          "data": {
            "image/png": "[encoded data removed]",
            "text/plain": [
              "<Figure size 720x360 with 1 Axes>"
            ]
          },
          "metadata": {
            "tags": []
          }
        }
      ]
    },
    {
      "cell_type": "code",
      "metadata": {
        "colab": {
          "base_uri": "https://localhost:8080/",
          "height": 338
        },
        "id": "PlCGlGfB2yoh",
        "outputId": "32409961-6e27-44a8-d2eb-8d0902673cf4"
      },
      "source": [
        "bar_chart('Player_of_match_team')"
      ],
      "execution_count": 107,
      "outputs": [
        {
          "output_type": "display_data",
          "data": {
            "image/png": "[encoded data removed]",
            "text/plain": [
              "<Figure size 720x360 with 1 Axes>"
            ]
          },
          "metadata": {
            "tags": []
          }
        }
      ]
    },
    {
      "cell_type": "code",
      "metadata": {
        "colab": {
          "base_uri": "https://localhost:8080/",
          "height": 204
        },
        "id": "dPcIHeZFPeSo",
        "outputId": "0a473d93-bba3-4c73-8c60-39b9fe6bfcbf"
      },
      "source": [
        "bpl.head()"
      ],
      "execution_count": 108,
      "outputs": [
        {
          "output_type": "execute_result",
          "data": {
            "text/html": [
              "<div>\n",
              "<style scoped>\n",
              "    .dataframe tbody tr th:only-of-type {\n",
              "        vertical-align: middle;\n",
              "    }\n",
              "\n",
              "    .dataframe tbody tr th {\n",
              "        vertical-align: top;\n",
              "    }\n",
              "\n",
              "    .dataframe thead th {\n",
              "        text-align: right;\n",
              "    }\n",
              "</style>\n",
              "<table border=\"1\" class=\"dataframe\">\n",
              "  <thead>\n",
              "    <tr style=\"text-align: right;\">\n",
              "      <th></th>\n",
              "      <th>Team</th>\n",
              "      <th>Toss_win</th>\n",
              "      <th>Toss_result</th>\n",
              "      <th>Toss_decission</th>\n",
              "      <th>Player_of_match</th>\n",
              "      <th>Player_of_match_team</th>\n",
              "      <th>Ground</th>\n",
              "      <th>Player_of_match_type</th>\n",
              "      <th>Score</th>\n",
              "      <th>Winner</th>\n",
              "      <th>Result</th>\n",
              "      <th>Weather</th>\n",
              "    </tr>\n",
              "  </thead>\n",
              "  <tbody>\n",
              "    <tr>\n",
              "      <th>0</th>\n",
              "      <td>7</td>\n",
              "      <td>7</td>\n",
              "      <td>1</td>\n",
              "      <td>0</td>\n",
              "      <td>2</td>\n",
              "      <td>7</td>\n",
              "      <td>0</td>\n",
              "      <td>0</td>\n",
              "      <td>2</td>\n",
              "      <td>7</td>\n",
              "      <td>1</td>\n",
              "      <td>1</td>\n",
              "    </tr>\n",
              "    <tr>\n",
              "      <th>1</th>\n",
              "      <td>5</td>\n",
              "      <td>7</td>\n",
              "      <td>0</td>\n",
              "      <td>1</td>\n",
              "      <td>2</td>\n",
              "      <td>7</td>\n",
              "      <td>0</td>\n",
              "      <td>0</td>\n",
              "      <td>2</td>\n",
              "      <td>7</td>\n",
              "      <td>0</td>\n",
              "      <td>1</td>\n",
              "    </tr>\n",
              "    <tr>\n",
              "      <th>2</th>\n",
              "      <td>1</td>\n",
              "      <td>1</td>\n",
              "      <td>1</td>\n",
              "      <td>1</td>\n",
              "      <td>5</td>\n",
              "      <td>1</td>\n",
              "      <td>0</td>\n",
              "      <td>2</td>\n",
              "      <td>2</td>\n",
              "      <td>1</td>\n",
              "      <td>1</td>\n",
              "      <td>2</td>\n",
              "    </tr>\n",
              "    <tr>\n",
              "      <th>3</th>\n",
              "      <td>2</td>\n",
              "      <td>1</td>\n",
              "      <td>0</td>\n",
              "      <td>0</td>\n",
              "      <td>5</td>\n",
              "      <td>1</td>\n",
              "      <td>0</td>\n",
              "      <td>2</td>\n",
              "      <td>1</td>\n",
              "      <td>1</td>\n",
              "      <td>0</td>\n",
              "      <td>2</td>\n",
              "    </tr>\n",
              "    <tr>\n",
              "      <th>4</th>\n",
              "      <td>0</td>\n",
              "      <td>4</td>\n",
              "      <td>0</td>\n",
              "      <td>1</td>\n",
              "      <td>5</td>\n",
              "      <td>4</td>\n",
              "      <td>0</td>\n",
              "      <td>2</td>\n",
              "      <td>1</td>\n",
              "      <td>4</td>\n",
              "      <td>0</td>\n",
              "      <td>1</td>\n",
              "    </tr>\n",
              "  </tbody>\n",
              "</table>\n",
              "</div>"
            ],
            "text/plain": [
              "   Team  Toss_win  Toss_result  Toss_decission  ...  Score  Winner  Result  Weather\n",
              "0     7         7            1               0  ...      2       7       1        1\n",
              "1     5         7            0               1  ...      2       7       0        1\n",
              "2     1         1            1               1  ...      2       1       1        2\n",
              "3     2         1            0               0  ...      1       1       0        2\n",
              "4     0         4            0               1  ...      1       4       0        1\n",
              "\n",
              "[5 rows x 12 columns]"
            ]
          },
          "metadata": {
            "tags": []
          },
          "execution_count": 108
        }
      ]
    },
    {
      "cell_type": "code",
      "metadata": {
        "colab": {
          "base_uri": "https://localhost:8080/"
        },
        "id": "iQv5gBzBlHqt",
        "outputId": "95aa4dd0-49d1-4acb-ac38-af4689b395b7"
      },
      "source": [
        "bpl['Weather'].value_counts()"
      ],
      "execution_count": 109,
      "outputs": [
        {
          "output_type": "execute_result",
          "data": {
            "text/plain": [
              "2    204\n",
              "0    204\n",
              "1    182\n",
              "Name: Weather, dtype: int64"
            ]
          },
          "metadata": {
            "tags": []
          },
          "execution_count": 109
        }
      ]
    },
    {
      "cell_type": "code",
      "metadata": {
        "colab": {
          "base_uri": "https://localhost:8080/"
        },
        "id": "kf3DRhS2kQn2",
        "outputId": "5e2d0f85-b29e-496d-e42c-6625226cbefe"
      },
      "source": [
        "bpl['Weather'].isnull().sum()"
      ],
      "execution_count": 110,
      "outputs": [
        {
          "output_type": "execute_result",
          "data": {
            "text/plain": [
              "0"
            ]
          },
          "metadata": {
            "tags": []
          },
          "execution_count": 110
        }
      ]
    },
    {
      "cell_type": "code",
      "metadata": {
        "colab": {
          "base_uri": "https://localhost:8080/",
          "height": 221
        },
        "id": "CDTbjXHrPU3N",
        "outputId": "b1b3f952-c916-4f7b-b5a7-026c764ebb1b"
      },
      "source": [
        "facet = sns.FacetGrid(bpl, hue=\"Score\",aspect=4)\n",
        "facet.map(sns.kdeplot,'Toss_result',shade= True)\n",
        "facet.set(xlim=(0, bpl['Toss_result'].max()))\n",
        "facet.add_legend()\n",
        "plt.show()"
      ],
      "execution_count": 111,
      "outputs": [
        {
          "output_type": "display_data",
          "data": {
            "image/png": "[encoded data removed]",
            "text/plain": [
              "<Figure size 910.6x216 with 1 Axes>"
            ]
          },
          "metadata": {
            "tags": []
          }
        }
      ]
    },
    {
      "cell_type": "markdown",
      "metadata": {
        "id": "3GccB2mHFzdA"
      },
      "source": [
        "#**Dividing the dataset**"
      ]
    },
    {
      "cell_type": "code",
      "metadata": {
        "colab": {
          "base_uri": "https://localhost:8080/"
        },
        "id": "bFmjf7xIF7VT",
        "outputId": "38e87e98-4543-4875-a63c-f0f5f2240279"
      },
      "source": [
        "bpl_data = bpl.drop('Result', axis=1)\n",
        "target = bpl['Result']\n",
        "\n",
        "bpl_data.shape, target.shape"
      ],
      "execution_count": 112,
      "outputs": [
        {
          "output_type": "execute_result",
          "data": {
            "text/plain": [
              "((590, 11), (590,))"
            ]
          },
          "metadata": {
            "tags": []
          },
          "execution_count": 112
        }
      ]
    },
    {
      "cell_type": "markdown",
      "metadata": {
        "id": "Lwza7YCFImXI"
      },
      "source": [
        "#**Splitting the dataset into train and test data**"
      ]
    },
    {
      "cell_type": "code",
      "metadata": {
        "colab": {
          "base_uri": "https://localhost:8080/"
        },
        "id": "sjnSI5poHflD",
        "outputId": "5feaf5ea-b7ea-4d12-95a4-08085189378a"
      },
      "source": [
        "from sklearn.model_selection import train_test_split\n",
        "X_train, X_test, y_train, y_test = train_test_split(bpl_data, target, test_size=.30, random_state=42)\n",
        "print(\"X_train: \", X_train.shape)\n",
        "print(\"X_test: \", X_test.shape)\n",
        "print(\"y_train: \", y_train.shape)\n",
        "print(\"y_test: \", y_test.shape)\n",
        "print(y_test)\n",
        "\n",
        "y_test.value_counts()"
      ],
      "execution_count": 113,
      "outputs": [
        {
          "output_type": "stream",
          "text": [
            "X_train:  (413, 11)\n",
            "X_test:  (177, 11)\n",
            "y_train:  (413,)\n",
            "y_test:  (177,)\n",
            "522    1\n",
            "284    0\n",
            "514    1\n",
            "331    1\n",
            "210    1\n",
            "      ..\n",
            "335    1\n",
            "589    1\n",
            "465    1\n",
            "423    0\n",
            "305    1\n",
            "Name: Result, Length: 177, dtype: int64\n"
          ],
          "name": "stdout"
        },
        {
          "output_type": "execute_result",
          "data": {
            "text/plain": [
              "1    91\n",
              "0    86\n",
              "Name: Result, dtype: int64"
            ]
          },
          "metadata": {
            "tags": []
          },
          "execution_count": 113
        }
      ]
    },
    {
      "cell_type": "markdown",
      "metadata": {
        "id": "u2nU-o3QIrjC"
      },
      "source": [
        "#**Random Forest Algorithm**"
      ]
    },
    {
      "cell_type": "code",
      "metadata": {
        "id": "U_YwAFddIxGc"
      },
      "source": [
        "from sklearn.tree import DecisionTreeClassifier\n",
        "from sklearn.ensemble import RandomForestClassifier\n",
        "\n",
        "dt = DecisionTreeClassifier()\n",
        "dt.fit(X_train, y_train)\n",
        "y_pred = dt.predict(X_test)"
      ],
      "execution_count": 114,
      "outputs": []
    },
    {
      "cell_type": "code",
      "metadata": {
        "colab": {
          "base_uri": "https://localhost:8080/"
        },
        "id": "o53ekTrRQaD5",
        "outputId": "b0579c72-456f-41b9-f3d3-fd1399abb91c"
      },
      "source": [
        "from sklearn.metrics import confusion_matrix,classification_report\n",
        "print(confusion_matrix(y_test, y_pred))\n",
        "print(classification_report(y_test,y_pred))"
      ],
      "execution_count": 115,
      "outputs": [
        {
          "output_type": "stream",
          "text": [
            "[[63 23]\n",
            " [24 67]]\n",
            "              precision    recall  f1-score   support\n",
            "\n",
            "           0       0.72      0.73      0.73        86\n",
            "           1       0.74      0.74      0.74        91\n",
            "\n",
            "    accuracy                           0.73       177\n",
            "   macro avg       0.73      0.73      0.73       177\n",
            "weighted avg       0.73      0.73      0.73       177\n",
            "\n"
          ],
          "name": "stdout"
        }
      ]
    },
    {
      "cell_type": "code",
      "metadata": {
        "colab": {
          "base_uri": "https://localhost:8080/"
        },
        "id": "bFZoXM32QaoA",
        "outputId": "cd8aa3f2-91a5-4eab-bb7c-d3834c88dd0f"
      },
      "source": [
        "from sklearn.metrics import accuracy_score\n",
        "print(accuracy_score(y_test, y_pred))"
      ],
      "execution_count": 116,
      "outputs": [
        {
          "output_type": "stream",
          "text": [
            "0.7344632768361582\n"
          ],
          "name": "stdout"
        }
      ]
    },
    {
      "cell_type": "markdown",
      "metadata": {
        "id": "1bfjVQuQn656"
      },
      "source": [
        "#**Linear Regression**"
      ]
    },
    {
      "cell_type": "code",
      "metadata": {
        "id": "hySrSm61n5w0"
      },
      "source": [
        "from sklearn.linear_model import LinearRegression"
      ],
      "execution_count": 117,
      "outputs": []
    },
    {
      "cell_type": "markdown",
      "metadata": {
        "id": "GCXCNOCooOdM"
      },
      "source": [
        "#**Now we need to initiate our model and train it**"
      ]
    },
    {
      "cell_type": "code",
      "metadata": {
        "colab": {
          "base_uri": "https://localhost:8080/"
        },
        "id": "k6lWGWTVoHfp",
        "outputId": "9e4c4f69-efac-4b90-f980-360d52bc3d64"
      },
      "source": [
        "linear = LinearRegression()\n",
        "linear.fit(X_train, y_train)"
      ],
      "execution_count": 118,
      "outputs": [
        {
          "output_type": "execute_result",
          "data": {
            "text/plain": [
              "LinearRegression(copy_X=True, fit_intercept=True, n_jobs=None, normalize=False)"
            ]
          },
          "metadata": {
            "tags": []
          },
          "execution_count": 118
        }
      ]
    },
    {
      "cell_type": "code",
      "metadata": {
        "colab": {
          "base_uri": "https://localhost:8080/"
        },
        "id": "bXzCdkzooIsa",
        "outputId": "0a933cb3-8b64-4437-95ec-a052294fc8a5"
      },
      "source": [
        "print(\"The R^2 is: \", linear.score(X_test, y_test))\n",
        "coeff = linear.coef_\n",
        "intercept = linear.intercept_\n",
        "\n",
        "for x in range(len(coeff)):\n",
        "    print(bpl.columns[x], ': ', coeff[x])\n",
        "print('The intercept of our slope is: ', intercept)"
      ],
      "execution_count": 119,
      "outputs": [
        {
          "output_type": "stream",
          "text": [
            "The R^2 is:  -0.02057710036050775\n",
            "Team :  -0.0075855776527379995\n",
            "Toss_win :  0.004608527558688575\n",
            "Toss_result :  -0.08100882809335973\n",
            "Toss_decission :  -0.12284641707570734\n",
            "Player_of_match :  -0.030542086961504292\n",
            "Player_of_match_team :  0.0009119844027269994\n",
            "Ground :  -0.017966794477256923\n",
            "Player_of_match_type :  0.04743636851109819\n",
            "Score :  0.18124777901128822\n",
            "Winner :  0.0009119844027269578\n",
            "Result :  -0.011704406142660185\n",
            "The intercept of our slope is:  0.5044281049628113\n"
          ],
          "name": "stdout"
        }
      ]
    },
    {
      "cell_type": "markdown",
      "metadata": {
        "id": "lYTSfPNwrXf1"
      },
      "source": [
        "#**K Nearest Neighbour**"
      ]
    },
    {
      "cell_type": "code",
      "metadata": {
        "id": "JOHcWXILrfKA"
      },
      "source": [
        "from sklearn.neighbors import KNeighborsClassifier"
      ],
      "execution_count": 120,
      "outputs": []
    },
    {
      "cell_type": "code",
      "metadata": {
        "id": "HZQNygIJrXGt"
      },
      "source": [
        "neighbours = np.arange(1,25)\n",
        "train_accuracy =np.empty(len(neighbours))\n",
        "test_accuracy = np.empty(len(neighbours))\n",
        "\n",
        "for i,k in enumerate(neighbours):\n",
        "    knn=KNeighborsClassifier(n_neighbors=k,algorithm=\"kd_tree\",n_jobs=-1)\n",
        "    knn.fit(X_train,y_train.ravel())\n",
        "    train_accuracy[i] = knn.score(X_train, y_train.ravel())\n",
        "    test_accuracy[i] = knn.score(X_test, y_test.ravel())"
      ],
      "execution_count": 121,
      "outputs": []
    },
    {
      "cell_type": "code",
      "metadata": {
        "colab": {
          "base_uri": "https://localhost:8080/",
          "height": 301
        },
        "id": "aTEmotlNsBeF",
        "outputId": "e35375b2-3cd9-4e57-9c96-871ca94dd2f3"
      },
      "source": [
        "plt.title('k-NN Varying number of neighbors')\n",
        "plt.plot(neighbours, test_accuracy, label='Testing Accuracy')\n",
        "plt.plot(neighbours, train_accuracy, label='Training accuracy')\n",
        "plt.legend()\n",
        "plt.xlabel('Number of neighbors')\n",
        "plt.ylabel('Accuracy')\n",
        "plt.show()"
      ],
      "execution_count": 122,
      "outputs": [
        {
          "output_type": "display_data",
          "data": {
            "image/png": "[encoded data removed]",
            "text/plain": [
              "<Figure size 432x288 with 1 Axes>"
            ]
          },
          "metadata": {
            "tags": []
          }
        }
      ]
    },
    {
      "cell_type": "code",
      "metadata": {
        "id": "JJ4q-NKSsb14"
      },
      "source": [
        "idx = np.where(test_accuracy == max(test_accuracy))\n",
        "x = neighbours[idx]"
      ],
      "execution_count": 123,
      "outputs": []
    },
    {
      "cell_type": "code",
      "metadata": {
        "colab": {
          "base_uri": "https://localhost:8080/"
        },
        "id": "jvRhQ03wsdYh",
        "outputId": "65628eac-db4d-4d22-de90-5cbe8108e335"
      },
      "source": [
        "knn=KNeighborsClassifier(n_neighbors=x[0],algorithm=\"kd_tree\",n_jobs=-1)\n",
        "knn.fit(X_train,y_train.ravel())"
      ],
      "execution_count": 124,
      "outputs": [
        {
          "output_type": "execute_result",
          "data": {
            "text/plain": [
              "KNeighborsClassifier(algorithm='kd_tree', leaf_size=30, metric='minkowski',\n",
              "                     metric_params=None, n_jobs=-1, n_neighbors=7, p=2,\n",
              "                     weights='uniform')"
            ]
          },
          "metadata": {
            "tags": []
          },
          "execution_count": 124
        }
      ]
    },
    {
      "cell_type": "code",
      "metadata": {
        "id": "ORuIUKL9sitL"
      },
      "source": [
        "knn_predicted_test_labels=knn.predict(X_test)"
      ],
      "execution_count": 125,
      "outputs": []
    },
    {
      "cell_type": "code",
      "metadata": {
        "id": "bryI9yYSslLN"
      },
      "source": [
        "knn_accuracy_score  = accuracy_score(y_test,knn_predicted_test_labels)"
      ],
      "execution_count": 126,
      "outputs": []
    },
    {
      "cell_type": "code",
      "metadata": {
        "colab": {
          "base_uri": "https://localhost:8080/"
        },
        "id": "2BfI_-24dlui",
        "outputId": "5a73eda7-d3ca-4dd1-9e06-ffceaa479fa0"
      },
      "source": [
        "print(knn_accuracy_score)"
      ],
      "execution_count": 127,
      "outputs": [
        {
          "output_type": "stream",
          "text": [
            "0.8587570621468926\n"
          ],
          "name": "stdout"
        }
      ]
    },
    {
      "cell_type": "markdown",
      "metadata": {
        "id": "-22m8vNqdslN"
      },
      "source": [
        "#**Logistic regression**"
      ]
    },
    {
      "cell_type": "code",
      "metadata": {
        "colab": {
          "base_uri": "https://localhost:8080/"
        },
        "id": "v0ySIrLhdvOe",
        "outputId": "efcdad46-6f6f-42a0-d513-4b683374d1e9"
      },
      "source": [
        "from sklearn.linear_model import LogisticRegression\n",
        "logmodel=LogisticRegression()\n",
        "logmodel.fit(X_train,y_train)"
      ],
      "execution_count": 128,
      "outputs": [
        {
          "output_type": "execute_result",
          "data": {
            "text/plain": [
              "LogisticRegression(C=1.0, class_weight=None, dual=False, fit_intercept=True,\n",
              "                   intercept_scaling=1, l1_ratio=None, max_iter=100,\n",
              "                   multi_class='auto', n_jobs=None, penalty='l2',\n",
              "                   random_state=None, solver='lbfgs', tol=0.0001, verbose=0,\n",
              "                   warm_start=False)"
            ]
          },
          "metadata": {
            "tags": []
          },
          "execution_count": 128
        }
      ]
    },
    {
      "cell_type": "code",
      "metadata": {
        "id": "MG9d1sC2dxEn"
      },
      "source": [
        "y_pred=logmodel.predict(X_test)"
      ],
      "execution_count": 129,
      "outputs": []
    },
    {
      "cell_type": "code",
      "metadata": {
        "colab": {
          "base_uri": "https://localhost:8080/"
        },
        "id": "L0BUaSAudy3v",
        "outputId": "c0496393-093b-41c3-ca04-f033e74c8eda"
      },
      "source": [
        "print(\"Accuracy\",(logmodel.score(X_test, y_test)))"
      ],
      "execution_count": 130,
      "outputs": [
        {
          "output_type": "stream",
          "text": [
            "Accuracy 0.5480225988700564\n"
          ],
          "name": "stdout"
        }
      ]
    },
    {
      "cell_type": "markdown",
      "metadata": {
        "id": "JK5sZFIFKMHI"
      },
      "source": [
        "#**NaiveBayes**"
      ]
    },
    {
      "cell_type": "code",
      "metadata": {
        "id": "vVueKyiLKLk3"
      },
      "source": [
        "from sklearn.naive_bayes import GaussianNB\n",
        "from sklearn import metrics"
      ],
      "execution_count": 131,
      "outputs": []
    },
    {
      "cell_type": "code",
      "metadata": {
        "id": "0M1ptXnDKTYB"
      },
      "source": [
        "model = GaussianNB()\n",
        "model.fit(X_train, y_train)\n",
        "prediction = model.predict(X_test)"
      ],
      "execution_count": 132,
      "outputs": []
    },
    {
      "cell_type": "code",
      "metadata": {
        "colab": {
          "base_uri": "https://localhost:8080/",
          "height": 285
        },
        "id": "d60bwrKOKaQU",
        "outputId": "f9faacbf-dea4-429e-ad26-4630764d6a8e"
      },
      "source": [
        "\n",
        "plt.scatter(y_test, prediction)"
      ],
      "execution_count": 133,
      "outputs": [
        {
          "output_type": "execute_result",
          "data": {
            "text/plain": [
              "<matplotlib.collections.PathCollection at 0x7fdf67d90c10>"
            ]
          },
          "metadata": {
            "tags": []
          },
          "execution_count": 133
        },
        {
          "output_type": "display_data",
          "data": {
            "image/png": "[encoded data removed]",
            "text/plain": [
              "<Figure size 432x288 with 1 Axes>"
            ]
          },
          "metadata": {
            "tags": []
          }
        }
      ]
    },
    {
      "cell_type": "code",
      "metadata": {
        "colab": {
          "base_uri": "https://localhost:8080/"
        },
        "id": "K9RrHvanKifw",
        "outputId": "03c511bf-67c9-43a1-a8b2-f24c2dd82c65"
      },
      "source": [
        "print(classification_report(y_test, prediction))"
      ],
      "execution_count": 134,
      "outputs": [
        {
          "output_type": "stream",
          "text": [
            "              precision    recall  f1-score   support\n",
            "\n",
            "           0       0.51      0.63      0.57        86\n",
            "           1       0.56      0.44      0.49        91\n",
            "\n",
            "    accuracy                           0.53       177\n",
            "   macro avg       0.53      0.53      0.53       177\n",
            "weighted avg       0.54      0.53      0.53       177\n",
            "\n"
          ],
          "name": "stdout"
        }
      ]
    },
    {
      "cell_type": "code",
      "metadata": {
        "colab": {
          "base_uri": "https://localhost:8080/"
        },
        "id": "HuBKAYXqKkvS",
        "outputId": "cceab891-034c-4eb1-a9ca-09bf0a4d193d"
      },
      "source": [
        "metrics.accuracy_score(prediction, y_test)"
      ],
      "execution_count": 135,
      "outputs": [
        {
          "output_type": "execute_result",
          "data": {
            "text/plain": [
              "0.5310734463276836"
            ]
          },
          "metadata": {
            "tags": []
          },
          "execution_count": 135
        }
      ]
    },
    {
      "cell_type": "markdown",
      "metadata": {
        "id": "HSQY4ZsCI__C"
      },
      "source": [
        "#**Gradient Boosting Algorithms**"
      ]
    },
    {
      "cell_type": "code",
      "metadata": {
        "id": "6soexDdpJDAM"
      },
      "source": [
        "from sklearn.ensemble import GradientBoostingClassifier\n",
        "from sklearn.metrics import accuracy_score"
      ],
      "execution_count": 136,
      "outputs": []
    },
    {
      "cell_type": "code",
      "metadata": {
        "id": "G2qEzoihK7o7"
      },
      "source": [
        "model = GradientBoostingClassifier(n_estimators=100,max_depth=5)"
      ],
      "execution_count": 137,
      "outputs": []
    },
    {
      "cell_type": "code",
      "metadata": {
        "colab": {
          "base_uri": "https://localhost:8080/"
        },
        "id": "HzjIhj_XLCEt",
        "outputId": "9d953a8d-7b79-4b84-8a23-7b1f6b86ee10"
      },
      "source": [
        "model.fit(X_train,y_train)"
      ],
      "execution_count": 138,
      "outputs": [
        {
          "output_type": "execute_result",
          "data": {
            "text/plain": [
              "GradientBoostingClassifier(ccp_alpha=0.0, criterion='friedman_mse', init=None,\n",
              "                           learning_rate=0.1, loss='deviance', max_depth=5,\n",
              "                           max_features=None, max_leaf_nodes=None,\n",
              "                           min_impurity_decrease=0.0, min_impurity_split=None,\n",
              "                           min_samples_leaf=1, min_samples_split=2,\n",
              "                           min_weight_fraction_leaf=0.0, n_estimators=100,\n",
              "                           n_iter_no_change=None, presort='deprecated',\n",
              "                           random_state=None, subsample=1.0, tol=0.0001,\n",
              "                           validation_fraction=0.1, verbose=0,\n",
              "                           warm_start=False)"
            ]
          },
          "metadata": {
            "tags": []
          },
          "execution_count": 138
        }
      ]
    },
    {
      "cell_type": "code",
      "metadata": {
        "colab": {
          "base_uri": "https://localhost:8080/"
        },
        "id": "ZjLfklr4LHR3",
        "outputId": "7227c2c5-ebec-4aa7-fec2-a3ebac3e25c6"
      },
      "source": [
        "predict_train = model.predict(X_train)\n",
        "print('\\nTarget on train data',predict_train) "
      ],
      "execution_count": 139,
      "outputs": [
        {
          "output_type": "stream",
          "text": [
            "\n",
            "Target on train data [1 1 0 0 0 1 0 0 0 1 1 1 1 0 0 1 1 0 0 1 0 0 1 1 1 1 1 0 0 0 0 1 1 1 0 0 0\n",
            " 1 0 1 0 1 1 1 0 1 0 1 1 0 0 0 0 1 0 1 1 1 0 1 0 1 1 0 0 0 1 1 1 0 1 0 0 1\n",
            " 1 1 1 1 1 0 1 1 1 1 0 0 1 0 1 1 0 0 0 0 1 0 0 1 0 1 1 1 0 0 0 0 1 1 0 1 0\n",
            " 1 1 1 0 1 1 1 0 0 0 1 0 1 1 1 1 0 0 0 0 1 0 0 0 0 0 1 1 1 1 0 1 0 0 0 1 0\n",
            " 0 0 0 1 0 0 1 1 0 1 0 0 0 0 0 0 1 1 1 0 0 0 1 1 0 1 0 0 1 0 1 0 1 1 1 1 0\n",
            " 1 0 0 1 1 0 0 1 1 1 0 1 1 0 0 0 1 1 1 1 1 1 0 0 1 0 0 1 0 0 1 0 1 0 0 0 1\n",
            " 0 1 1 0 0 0 0 0 0 1 0 1 1 0 1 1 0 0 0 0 0 1 1 0 0 0 1 1 0 1 1 1 1 1 0 1 0\n",
            " 0 0 0 1 1 1 0 0 1 0 0 1 1 0 1 0 1 1 0 0 0 0 0 0 0 0 0 1 0 0 1 1 1 0 0 0 1\n",
            " 0 1 0 1 0 1 0 0 0 1 1 0 1 1 1 1 1 1 0 1 0 0 0 1 0 0 1 0 1 0 1 0 0 1 1 0 1\n",
            " 0 1 0 0 1 1 0 1 0 1 1 0 0 1 0 1 1 1 0 0 1 0 0 0 0 0 1 1 1 1 0 0 0 1 1 0 1\n",
            " 1 1 0 1 1 1 0 1 0 1 0 1 1 1 0 0 1 0 0 0 1 0 0 0 1 1 0 0 0 0 1 1 1 0 1 0 0\n",
            " 1 1 1 1 0 1]\n"
          ],
          "name": "stdout"
        }
      ]
    },
    {
      "cell_type": "code",
      "metadata": {
        "colab": {
          "base_uri": "https://localhost:8080/"
        },
        "id": "dIATb-FlLMCB",
        "outputId": "bbcf2d03-b7e5-432e-b49a-f0cd2caa2eb3"
      },
      "source": [
        "accuracy_train = accuracy_score(y_train,predict_train)\n",
        "print('\\naccuracy_score on train dataset : ', accuracy_train)"
      ],
      "execution_count": 140,
      "outputs": [
        {
          "output_type": "stream",
          "text": [
            "\n",
            "accuracy_score on train dataset :  1.0\n"
          ],
          "name": "stdout"
        }
      ]
    },
    {
      "cell_type": "code",
      "metadata": {
        "colab": {
          "base_uri": "https://localhost:8080/"
        },
        "id": "FKeafvKpLRXT",
        "outputId": "6138f1be-843f-485f-c485-c16e42093093"
      },
      "source": [
        "predict_test = model.predict(X_test)\n",
        "print('\\nTarget on test data',predict_test)"
      ],
      "execution_count": 141,
      "outputs": [
        {
          "output_type": "stream",
          "text": [
            "\n",
            "Target on test data [1 0 1 1 1 0 0 1 1 1 0 0 1 1 1 0 1 1 1 1 0 1 1 1 0 0 0 0 0 1 0 0 1 0 0 0 1\n",
            " 0 0 0 1 0 1 1 1 0 1 1 1 1 0 1 1 0 0 0 1 0 0 1 0 1 0 0 0 1 1 1 0 1 1 0 0 0\n",
            " 1 0 1 0 0 0 1 0 0 0 1 0 1 0 0 1 0 1 0 0 1 1 1 1 1 0 1 0 0 1 0 0 1 1 0 0 1\n",
            " 0 1 0 0 1 0 1 1 0 1 1 0 1 1 1 0 1 0 1 1 0 1 1 0 1 0 0 1 1 1 1 1 0 1 0 1 1\n",
            " 1 1 1 0 1 0 0 0 1 0 0 0 0 0 1 1 1 1 1 1 0 1 1 1 1 1 1 0 1]\n"
          ],
          "name": "stdout"
        }
      ]
    },
    {
      "cell_type": "code",
      "metadata": {
        "colab": {
          "base_uri": "https://localhost:8080/"
        },
        "id": "bX75b6E6LXEe",
        "outputId": "71264305-6776-4cec-86d5-15cc93c69c6d"
      },
      "source": [
        "accuracy_test = accuracy_score(y_test,predict_test)\n",
        "print('\\naccuracy_score on test dataset : ', accuracy_test)"
      ],
      "execution_count": 142,
      "outputs": [
        {
          "output_type": "stream",
          "text": [
            "\n",
            "accuracy_score on test dataset :  0.9378531073446328\n"
          ],
          "name": "stdout"
        }
      ]
    }
  ]
}